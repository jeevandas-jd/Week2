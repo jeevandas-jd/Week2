{
 "cells": [
  {
   "cell_type": "code",
   "execution_count": 11,
   "id": "9e1d8619",
   "metadata": {},
   "outputs": [],
   "source": [
    "import chromadb"
   ]
  },
  {
   "cell_type": "code",
   "execution_count": 12,
   "id": "529d54aa",
   "metadata": {},
   "outputs": [],
   "source": [
    "client= client = chromadb.PersistentClient(path=\"vectorDB/\")"
   ]
  },
  {
   "cell_type": "markdown",
   "id": "70af0ae6",
   "metadata": {},
   "source": [
    "# read text file"
   ]
  },
  {
   "cell_type": "code",
   "execution_count": 8,
   "id": "bb80367d",
   "metadata": {},
   "outputs": [],
   "source": [
    "text=[]\n",
    "idss=[]\n",
    "with open(\"sample.txt\",\"r\") as f:\n",
    "    i=1\n",
    "    for line in f:\n",
    "        text.append(line.strip())\n",
    "        idss.append(f\"id{i}\")\n",
    "        i=i+1\n"
   ]
  },
  {
   "cell_type": "markdown",
   "id": "355644c7",
   "metadata": {},
   "source": [
    "# Create Collection"
   ]
  },
  {
   "cell_type": "code",
   "execution_count": 13,
   "id": "1a5e2976",
   "metadata": {},
   "outputs": [],
   "source": [
    "collection=client.create_collection(name=\"my_collection\")"
   ]
  },
  {
   "cell_type": "code",
   "execution_count": 14,
   "id": "67701a19",
   "metadata": {},
   "outputs": [],
   "source": [
    "collection.add(documents=text,ids=idss)"
   ]
  },
  {
   "cell_type": "code",
   "execution_count": 15,
   "id": "44f4672e",
   "metadata": {},
   "outputs": [
    {
     "name": "stdout",
     "output_type": "stream",
     "text": [
      "{'ids': [['id1', 'id3', 'id2']], 'embeddings': None, 'documents': [['JEEVANDAS M S', 'GitHub: jeevandas-jd', 'jeevandasms2004@gmail.com']], 'uris': None, 'included': ['metadatas', 'documents', 'distances'], 'data': None, 'metadatas': [[None, None, None]], 'distances': [[0.6254581809043884, 0.8954820036888123, 1.5037317276000977]]}\n"
     ]
    }
   ],
   "source": [
    "result=collection.query(query_texts=[\"who is jeevndas\"],n_results=3)\n",
    "print(result)"
   ]
  },
  {
   "cell_type": "code",
   "execution_count": null,
   "id": "52455372",
   "metadata": {},
   "outputs": [],
   "source": []
  }
 ],
 "metadata": {
  "kernelspec": {
   "display_name": "miniconda",
   "language": "python",
   "name": "miniconda"
  },
  "language_info": {
   "codemirror_mode": {
    "name": "ipython",
    "version": 3
   },
   "file_extension": ".py",
   "mimetype": "text/x-python",
   "name": "python",
   "nbconvert_exporter": "python",
   "pygments_lexer": "ipython3",
   "version": "3.13.2"
  }
 },
 "nbformat": 4,
 "nbformat_minor": 5
}
