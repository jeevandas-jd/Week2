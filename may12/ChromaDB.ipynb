{
 "cells": [
  {
   "cell_type": "code",
   "execution_count": 1,
   "id": "13dcf8b5",
   "metadata": {},
   "outputs": [],
   "source": [
    "import chromadb"
   ]
  },
  {
   "cell_type": "code",
   "execution_count": 2,
   "id": "4b81f6c1",
   "metadata": {},
   "outputs": [],
   "source": [
    "client= chromadb.Client()"
   ]
  },
  {
   "cell_type": "code",
   "execution_count": 8,
   "id": "1ddc312b",
   "metadata": {},
   "outputs": [],
   "source": [
    "text=[]\n",
    "idss=[]\n",
    "with open(\"sample.txt\",\"r\") as f:\n",
    "    i=1\n",
    "    for line in f:\n",
    "        text.append(line.strip())\n",
    "        idss.append(f\"id{i}\")\n",
    "        i=i+1\n"
   ]
  },
  {
   "cell_type": "markdown",
   "id": "249ee8ba",
   "metadata": {},
   "source": [
    "# Create Collection"
   ]
  },
  {
   "cell_type": "code",
   "execution_count": 6,
   "id": "02fbc83b",
   "metadata": {},
   "outputs": [],
   "source": [
    "collection=client.create_collection(name=\"my_collection\")"
   ]
  },
  {
   "cell_type": "code",
   "execution_count": 9,
   "id": "bcf7025c",
   "metadata": {},
   "outputs": [
    {
     "name": "stderr",
     "output_type": "stream",
     "text": [
      "/home/jeevandas/.cache/chroma/onnx_models/all-MiniLM-L6-v2/onnx.tar.gz: 100%|██████████████████████| 79.3M/79.3M [08:16<00:00, 168kiB/s]\n"
     ]
    }
   ],
   "source": [
    "collection.add(documents=text,ids=idss)"
   ]
  },
  {
   "cell_type": "code",
   "execution_count": 10,
   "id": "309b8ce9",
   "metadata": {},
   "outputs": [
    {
     "name": "stdout",
     "output_type": "stream",
     "text": [
      "{'ids': [['id1', 'id3', 'id2']], 'embeddings': None, 'documents': [['JEEVANDAS M S', 'GitHub: jeevandas-jd', 'jeevandasms2004@gmail.com']], 'uris': None, 'included': ['metadatas', 'documents', 'distances'], 'data': None, 'metadatas': [[None, None, None]], 'distances': [[0.6254581809043884, 0.8954820036888123, 1.5037317276000977]]}\n"
     ]
    }
   ],
   "source": [
    "result=collection.query(query_texts=[\"who is jeevndas\"],n_results=3)\n",
    "print(result)"
   ]
  },
  {
   "cell_type": "code",
   "execution_count": null,
   "id": "5e58a655",
   "metadata": {},
   "outputs": [],
   "source": []
  }
 ],
 "metadata": {
  "kernelspec": {
   "display_name": "miniconda",
   "language": "python",
   "name": "miniconda"
  },
  "language_info": {
   "codemirror_mode": {
    "name": "ipython",
    "version": 3
   },
   "file_extension": ".py",
   "mimetype": "text/x-python",
   "name": "python",
   "nbconvert_exporter": "python",
   "pygments_lexer": "ipython3",
   "version": "3.13.2"
  }
 },
 "nbformat": 4,
 "nbformat_minor": 5
}
